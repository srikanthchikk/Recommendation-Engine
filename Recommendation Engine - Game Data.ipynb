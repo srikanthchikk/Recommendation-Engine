{
 "cells": [
  {
   "cell_type": "markdown",
   "id": "cb996086",
   "metadata": {},
   "source": [
    "Game Dataset Build a recommender system with the given data using UBCF.\n",
    "\n",
    "This dataset is related to the video gaming industry and a survey was conducted to build a \n",
    "recommendation engine so that the store can improve the sales of its gaming DVDs. Snapshot of the dataset is given below. Build a Recommendation Engine and suggest top selling DVDs to the store customers"
   ]
  },
  {
   "cell_type": "code",
   "execution_count": 1,
   "id": "27b1bafb",
   "metadata": {},
   "outputs": [],
   "source": [
    "# Let us start with importing the data on which we need to work and importing the libraries as well\n",
    "import pandas as pd\n",
    "\n",
    "game_data = pd.read_csv(\"game.csv\")"
   ]
  },
  {
   "cell_type": "code",
   "execution_count": 2,
   "id": "1cdf7753",
   "metadata": {},
   "outputs": [
    {
     "data": {
      "text/plain": [
       "(5000, 3)"
      ]
     },
     "execution_count": 2,
     "metadata": {},
     "output_type": "execute_result"
    }
   ],
   "source": [
    "game_data.shape"
   ]
  },
  {
   "cell_type": "code",
   "execution_count": 3,
   "id": "9446b394",
   "metadata": {},
   "outputs": [
    {
     "data": {
      "text/plain": [
       "Index(['userId', 'game', 'rating'], dtype='object')"
      ]
     },
     "execution_count": 3,
     "metadata": {},
     "output_type": "execute_result"
    }
   ],
   "source": [
    "game_data.columns"
   ]
  },
  {
   "cell_type": "code",
   "execution_count": 4,
   "id": "8b0f9f89",
   "metadata": {},
   "outputs": [
    {
     "data": {
      "text/html": [
       "<div>\n",
       "<style scoped>\n",
       "    .dataframe tbody tr th:only-of-type {\n",
       "        vertical-align: middle;\n",
       "    }\n",
       "\n",
       "    .dataframe tbody tr th {\n",
       "        vertical-align: top;\n",
       "    }\n",
       "\n",
       "    .dataframe thead th {\n",
       "        text-align: right;\n",
       "    }\n",
       "</style>\n",
       "<table border=\"1\" class=\"dataframe\">\n",
       "  <thead>\n",
       "    <tr style=\"text-align: right;\">\n",
       "      <th></th>\n",
       "      <th>userId</th>\n",
       "      <th>game</th>\n",
       "      <th>rating</th>\n",
       "    </tr>\n",
       "  </thead>\n",
       "  <tbody>\n",
       "    <tr>\n",
       "      <th>0</th>\n",
       "      <td>3</td>\n",
       "      <td>The Legend of Zelda: Ocarina of Time</td>\n",
       "      <td>4.0</td>\n",
       "    </tr>\n",
       "    <tr>\n",
       "      <th>1</th>\n",
       "      <td>6</td>\n",
       "      <td>Tony Hawk's Pro Skater 2</td>\n",
       "      <td>5.0</td>\n",
       "    </tr>\n",
       "    <tr>\n",
       "      <th>2</th>\n",
       "      <td>8</td>\n",
       "      <td>Grand Theft Auto IV</td>\n",
       "      <td>4.0</td>\n",
       "    </tr>\n",
       "    <tr>\n",
       "      <th>3</th>\n",
       "      <td>10</td>\n",
       "      <td>SoulCalibur</td>\n",
       "      <td>4.0</td>\n",
       "    </tr>\n",
       "    <tr>\n",
       "      <th>4</th>\n",
       "      <td>11</td>\n",
       "      <td>Grand Theft Auto IV</td>\n",
       "      <td>4.5</td>\n",
       "    </tr>\n",
       "  </tbody>\n",
       "</table>\n",
       "</div>"
      ],
      "text/plain": [
       "   userId                                  game  rating\n",
       "0       3  The Legend of Zelda: Ocarina of Time     4.0\n",
       "1       6              Tony Hawk's Pro Skater 2     5.0\n",
       "2       8                   Grand Theft Auto IV     4.0\n",
       "3      10                           SoulCalibur     4.0\n",
       "4      11                   Grand Theft Auto IV     4.5"
      ]
     },
     "execution_count": 4,
     "metadata": {},
     "output_type": "execute_result"
    }
   ],
   "source": [
    "game_data.head()"
   ]
  },
  {
   "cell_type": "markdown",
   "id": "9476b34a",
   "metadata": {},
   "source": [
    "**Data Description: Game Dataset**\n",
    "\n",
    "userId -- User ID\n",
    "\n",
    "game -- name of the game\n",
    "\n",
    "rating -- Review rating of the movies by the users"
   ]
  },
  {
   "cell_type": "markdown",
   "id": "20fac4b5",
   "metadata": {},
   "source": [
    "We happen to notice that the data has the \"game\" column, which are in text format. We will have to decrypt the same using **TFIDF - \"Term Frequency Inverse Document Frequency\"** which will help us create a matrix of items and find the similarity matrix among the **game**."
   ]
  },
  {
   "cell_type": "code",
   "execution_count": 5,
   "id": "1d5eed1b",
   "metadata": {},
   "outputs": [],
   "source": [
    "# Importing the TfidfVectorizer from sklearn\n",
    "from sklearn.feature_extraction.text import TfidfVectorizer\n",
    "\n",
    "# Creating TfidfVectorizer to remove all stop words\n",
    "\n",
    "Tfidf = TfidfVectorizer(stop_words=\"english\")"
   ]
  },
  {
   "cell_type": "code",
   "execution_count": 6,
   "id": "ad71fcf2",
   "metadata": {},
   "outputs": [
    {
     "data": {
      "text/plain": [
       "0"
      ]
     },
     "execution_count": 6,
     "metadata": {},
     "output_type": "execute_result"
    }
   ],
   "source": [
    "# Checking for the NaN values in category\n",
    "game_data[\"rating\"].isnull().sum()\n"
   ]
  },
  {
   "cell_type": "code",
   "execution_count": 7,
   "id": "c3d18ac9",
   "metadata": {},
   "outputs": [
    {
     "data": {
      "text/plain": [
       "(5000, 3068)"
      ]
     },
     "execution_count": 7,
     "metadata": {},
     "output_type": "execute_result"
    }
   ],
   "source": [
    "#creating tfidf matrix\n",
    "tfidf_matrix = Tfidf.fit_transform(game_data.game)\n",
    "tfidf_matrix.shape"
   ]
  },
  {
   "cell_type": "markdown",
   "id": "8e12563d",
   "metadata": {},
   "source": [
    "**Cosine Similarity**: Measures the cosine of the angle between two vectors. It is a judgment of orientation rather than magnitude between two vectors with respect to the origin. The cosine of 0 degrees is 1 which means the data points are similar and cosine of 90 degrees is 0 which means data points are dissimilar."
   ]
  },
  {
   "cell_type": "code",
   "execution_count": 8,
   "id": "56058184",
   "metadata": {},
   "outputs": [],
   "source": [
    "# To find the similarity scores we import linear_kernel from sklearn\n",
    "from sklearn.metrics.pairwise import linear_kernel"
   ]
  },
  {
   "cell_type": "code",
   "execution_count": 9,
   "id": "625076c0",
   "metadata": {},
   "outputs": [],
   "source": [
    "# Creating Cosine similarity matrix, which will create the matrix of similarities \n",
    "# based on the magnitude calculated based on the cosine similarities\n",
    "\n",
    "cos_sim_matrix = linear_kernel(tfidf_matrix, tfidf_matrix)"
   ]
  },
  {
   "cell_type": "code",
   "execution_count": 10,
   "id": "6810a9a4",
   "metadata": {},
   "outputs": [],
   "source": [
    "# We now create a series of the game ratings, while removing the duplicate values\n",
    "game_data_index = pd.Series(game_data.index, index= game_data[\"userId\"]).drop_duplicates()"
   ]
  },
  {
   "cell_type": "code",
   "execution_count": 11,
   "id": "a5d49d90",
   "metadata": {},
   "outputs": [
    {
     "data": {
      "text/plain": [
       "userId\n",
       "3     0\n",
       "6     1\n",
       "8     2\n",
       "10    3\n",
       "11    4\n",
       "12    5\n",
       "13    6\n",
       "14    7\n",
       "16    8\n",
       "19    9\n",
       "dtype: int64"
      ]
     },
     "execution_count": 11,
     "metadata": {},
     "output_type": "execute_result"
    }
   ],
   "source": [
    "game_data_index.head(10)"
   ]
  },
  {
   "cell_type": "code",
   "execution_count": 12,
   "id": "49a96de8",
   "metadata": {},
   "outputs": [
    {
     "data": {
      "text/plain": [
       "89"
      ]
     },
     "execution_count": 12,
     "metadata": {},
     "output_type": "execute_result"
    }
   ],
   "source": [
    "# Checking the same for a random movie picked up\n",
    "game_data_id = game_data_index[269]\n",
    "\n",
    "game_data_id"
   ]
  },
  {
   "cell_type": "code",
   "execution_count": 13,
   "id": "fff47274",
   "metadata": {},
   "outputs": [],
   "source": [
    "# We will have to create a user defined function for generating recommendations for the games as under\n",
    "def get_recommendations(UserId, topN):\n",
    "    \n",
    "    #getting the game index sing its userid\n",
    "    game_data_id = game_data_index[UserId]\n",
    "    \n",
    "    # Getting the pair wise similarity score for all the anime's with that\n",
    "    cosine_scores = list(enumerate(cos_sim_matrix[game_data_id]))\n",
    "    \n",
    "    cosine_scores = sorted(cosine_scores, key = lambda x:x[1], reverse=True)\n",
    "    \n",
    "    cosine_scores_N = cosine_scores[0:topN+1]\n",
    "    \n",
    "    \n",
    "    # Getting the game index \n",
    "    game_data_idx = [i[0] for i in cosine_scores_N]\n",
    "    \n",
    "    game_data_scores = [i[1] for i in cosine_scores_N]\n",
    "    \n",
    "    \n",
    "    games_similar = pd.DataFrame(columns=[\"game\", \"rating\"])\n",
    "    \n",
    "    games_similar[\"game\"] = game_data.loc[game_data_idx, \"game\"]    \n",
    "    \n",
    "    games_similar[\"rating\"] = game_data_scores\n",
    "    \n",
    "    games_similar.reset_index(inplace = True) \n",
    "    \n",
    "    #games_similar.drop([\"game\"], axis=1, inplace=True)\n",
    "    print(games_similar)\n"
   ]
  },
  {
   "cell_type": "markdown",
   "id": "10d0c74e",
   "metadata": {},
   "source": [
    "The above defined function helps us to recommend the games based on the similarity on the ratings given. The scores are calculated for n number of similar games and the recomendation for the similar games is printed out. To understand better we write the code as below."
   ]
  },
  {
   "cell_type": "code",
   "execution_count": 14,
   "id": "e70fd063",
   "metadata": {},
   "outputs": [
    {
     "name": "stdout",
     "output_type": "stream",
     "text": [
      "    index                         game    rating\n",
      "0      95          Burnout 3: Takedown  1.000000\n",
      "1     108          Burnout 3: Takedown  1.000000\n",
      "2    4315                      Burnout  0.621807\n",
      "3    4585                      Burnout  0.621807\n",
      "4    1102              Burnout Legends  0.456389\n",
      "5     405              Burnout Revenge  0.428381\n",
      "6     496              Burnout Revenge  0.428381\n",
      "7     577              Burnout Revenge  0.428381\n",
      "8     654             Burnout Paradise  0.425606\n",
      "9     855             Burnout Paradise  0.425606\n",
      "10   2814  Burnout Paradise Remastered  0.357666\n"
     ]
    },
    {
     "data": {
      "text/plain": [
       "95"
      ]
     },
     "execution_count": 14,
     "metadata": {},
     "output_type": "execute_result"
    }
   ],
   "source": [
    "# We are trying to recommend using the above defined function top 10 games \n",
    "# that stand similar in ratings as that of the game defined in the code\n",
    "\n",
    "get_recommendations(285, topN=10)\n",
    "\n",
    "game_data_index[285]\n"
   ]
  },
  {
   "cell_type": "markdown",
   "id": "1dfc8c7b",
   "metadata": {},
   "source": [
    "Hence, we see the result that clearly show the games recommended as above which match the closest in the ratings."
   ]
  }
 ],
 "metadata": {
  "kernelspec": {
   "display_name": "Python 3 (ipykernel)",
   "language": "python",
   "name": "python3"
  },
  "language_info": {
   "codemirror_mode": {
    "name": "ipython",
    "version": 3
   },
   "file_extension": ".py",
   "mimetype": "text/x-python",
   "name": "python",
   "nbconvert_exporter": "python",
   "pygments_lexer": "ipython3",
   "version": "3.9.7"
  }
 },
 "nbformat": 4,
 "nbformat_minor": 5
}
