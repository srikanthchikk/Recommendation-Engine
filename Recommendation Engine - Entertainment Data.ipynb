{
 "cells": [
  {
   "cell_type": "markdown",
   "id": "cb996086",
   "metadata": {
    "id": "cb996086"
   },
   "source": [
    "The Entertainment Company** which is an online movie watching platform, wants to improve its collection of movies and showcase those that are highly rated and recommend those movies to its customer by their movie watching footprint. For this, the company has collected the data and shared it with you to provide some analytical insights and also to come up with a recommendation algorithm so that it can automate its process for effective recommendations. The ratings are between -9 and +9"
   ]
  },
  {
   "cell_type": "code",
   "execution_count": null,
   "id": "27b1bafb",
   "metadata": {
    "id": "27b1bafb"
   },
   "outputs": [],
   "source": [
    "# Let us start with importing the data on which we need to work and importing the libraries as well\n",
    "import pandas as pd\n",
    "\n",
    "movies = pd.read_csv(\"Entertainment.csv\")"
   ]
  },
  {
   "cell_type": "code",
   "execution_count": null,
   "id": "1cdf7753",
   "metadata": {
    "id": "1cdf7753",
    "outputId": "190afb28-a833-484c-c0df-5c712370d71e"
   },
   "outputs": [
    {
     "data": {
      "text/plain": [
       "(51, 4)"
      ]
     },
     "execution_count": 2,
     "metadata": {},
     "output_type": "execute_result"
    }
   ],
   "source": [
    "movies.shape"
   ]
  },
  {
   "cell_type": "code",
   "execution_count": null,
   "id": "9446b394",
   "metadata": {
    "id": "9446b394",
    "outputId": "a6b0145f-04a3-4256-8399-865682e79609"
   },
   "outputs": [
    {
     "data": {
      "text/plain": [
       "Index(['Id', 'Titles', 'Category', 'Reviews'], dtype='object')"
      ]
     },
     "execution_count": 3,
     "metadata": {},
     "output_type": "execute_result"
    }
   ],
   "source": [
    "movies.columns"
   ]
  },
  {
   "cell_type": "markdown",
   "id": "9476b34a",
   "metadata": {
    "id": "9476b34a"
   },
   "source": [
    "**Data Description: Entertainment Dataset**\n",
    "\n",
    "ID -- Nominal ID of the movies\n",
    "\n",
    "Titles -- Names of the movies\n",
    "\n",
    "Category -- Category/ genre the film belonging to\n",
    "\n",
    "Reviews -- Review rating of the movies by the users"
   ]
  },
  {
   "cell_type": "markdown",
   "id": "20fac4b5",
   "metadata": {
    "id": "20fac4b5"
   },
   "source": [
    "We happen to notice that the data has the names and category provided, which are in text format. We will have to decrypt the same using **TFIDF - \"Term Frequency Inverse Document Frequency\"** which will help us create a matrix of items and find the similarity matrix among the **Titles**."
   ]
  },
  {
   "cell_type": "code",
   "execution_count": null,
   "id": "1d5eed1b",
   "metadata": {
    "id": "1d5eed1b"
   },
   "outputs": [],
   "source": [
    "# Importing the TfidfVectorizer from sklearn\n",
    "from sklearn.feature_extraction.text import TfidfVectorizer\n",
    "\n",
    "# Creating TfidfVectorizer to remove all stop words\n",
    "\n",
    "Tfidf = TfidfVectorizer(stop_words=\"english\")"
   ]
  },
  {
   "cell_type": "code",
   "execution_count": null,
   "id": "ad71fcf2",
   "metadata": {
    "id": "ad71fcf2",
    "outputId": "8ae8eb70-4063-4075-9e7d-11fe984b03a3"
   },
   "outputs": [
    {
     "data": {
      "text/plain": [
       "0"
      ]
     },
     "execution_count": 5,
     "metadata": {},
     "output_type": "execute_result"
    }
   ],
   "source": [
    "# Checking for the NaN values in category\n",
    "movies[\"Category\"].isnull().sum()\n"
   ]
  },
  {
   "cell_type": "code",
   "execution_count": null,
   "id": "c3d18ac9",
   "metadata": {
    "id": "c3d18ac9",
    "outputId": "ed817724-f2b7-477e-89fe-f80bb9e8c8cc"
   },
   "outputs": [
    {
     "data": {
      "text/plain": [
       "(51, 34)"
      ]
     },
     "execution_count": 6,
     "metadata": {},
     "output_type": "execute_result"
    }
   ],
   "source": [
    "#creating tfidf matrix\n",
    "tfidf_matrix = Tfidf.fit_transform(movies.Category)\n",
    "tfidf_matrix.shape"
   ]
  },
  {
   "cell_type": "markdown",
   "id": "8e12563d",
   "metadata": {
    "id": "8e12563d"
   },
   "source": [
    "**Cosine Similarity**: Measures the cosine of the angle between two vectors. It is a judgment of orientation rather than magnitude between two vectors with respect to the origin. The cosine of 0 degrees is 1 which means the data points are similar and cosine of 90 degrees is 0 which means data points are dissimilar."
   ]
  },
  {
   "cell_type": "code",
   "execution_count": null,
   "id": "56058184",
   "metadata": {
    "id": "56058184"
   },
   "outputs": [],
   "source": [
    "# To find the similarity scores we import linear_kernel from sklearn\n",
    "from sklearn.metrics.pairwise import linear_kernel"
   ]
  },
  {
   "cell_type": "code",
   "execution_count": null,
   "id": "625076c0",
   "metadata": {
    "id": "625076c0"
   },
   "outputs": [],
   "source": [
    "# Creating Cosine similarity matrix, which will create the matrix of similarities \n",
    "# based on the magnitude calculated based on the cosine similarities\n",
    "\n",
    "cos_sim_matrix = linear_kernel(tfidf_matrix, tfidf_matrix)"
   ]
  },
  {
   "cell_type": "code",
   "execution_count": null,
   "id": "6810a9a4",
   "metadata": {
    "id": "6810a9a4"
   },
   "outputs": [],
   "source": [
    "# We now create a series of the movie titles, while removing the duplicate values\n",
    "movies_index = pd.Series(movies.index, index = movies[\"Titles\"]).drop_duplicates()"
   ]
  },
  {
   "cell_type": "code",
   "execution_count": null,
   "id": "a5d49d90",
   "metadata": {
    "id": "a5d49d90",
    "outputId": "4e5e542e-838e-408a-8c86-9741737f81b8"
   },
   "outputs": [
    {
     "data": {
      "text/plain": [
       "Titles\n",
       "Toy Story (1995)                                         0\n",
       "Jumanji (1995)                                           1\n",
       "Grumpier Old Men (1995)                                  2\n",
       "Waiting to Exhale (1995)                                 3\n",
       "Father of the Bride Part II (1995)                       4\n",
       "Heat (1995)                                              5\n",
       "Sabrina (1995)                                           6\n",
       "Tom and Huck (1995)                                      7\n",
       "Sudden Death (1995)                                      8\n",
       "GoldenEye (1995)                                         9\n",
       "American President, The (1995)                          10\n",
       "Dracula: Dead and Loving It (1995)                      11\n",
       "Balto (1995)                                            12\n",
       "Nixon (1995)                                            13\n",
       "Cutthroat Island (1995)                                 14\n",
       "Casino (1995)                                           15\n",
       "Sense and Sensibility (1995)                            16\n",
       "Four Rooms (1995)                                       17\n",
       "Ace Ventura: When Nature Calls (1995)                   18\n",
       "Money Train (1995)                                      19\n",
       "Get Shorty (1995)                                       20\n",
       "Copycat (1995)                                          21\n",
       "Assassins (1995)                                        22\n",
       "Powder (1995)                                           23\n",
       "Leaving Las Vegas (1995)                                24\n",
       "Othello (1995)                                          25\n",
       "Now and Then (1995)                                     26\n",
       "Persuasion (1995)                                       27\n",
       "City of Lost Children (1995)                            28\n",
       "Shanghai Triad (Yao a yao yao dao waipo qiao) (1995)    29\n",
       "Dangerous Minds (1995)                                  30\n",
       "Twelve Monkeys (a.k.a. 12 Monkeys) (1995)               31\n",
       "Babe (1995)                                             32\n",
       "Dead Man Walking (1995)                                 33\n",
       "It Takes Two (1995)                                     34\n",
       "Clueless (1995)                                         35\n",
       "Cry, the Beloved Country (1995)                         36\n",
       "Richard III (1995)                                      37\n",
       "Dead Presidents (1995)                                  38\n",
       "Restoration (1995)                                      39\n",
       "Mortal Kombat (1995)                                    40\n",
       "To Die For (1995)                                       41\n",
       "How to Make an American Quilt (1995)                    42\n",
       "Seven (a.k.a. Se7en) (1995)                             43\n",
       "Pocahontas (1995)                                       44\n",
       "When Night Is Falling (1995)                            45\n",
       "Usual Suspects, The (1995)                              46\n",
       "Mighty Aphrodite (1995)                                 47\n",
       "Lamerica (1994)                                         48\n",
       "Big Green, The (1995)                                   49\n",
       "Georgia (1995)                                          50\n",
       "dtype: int64"
      ]
     },
     "execution_count": 10,
     "metadata": {},
     "output_type": "execute_result"
    }
   ],
   "source": [
    "movies_index"
   ]
  },
  {
   "cell_type": "code",
   "execution_count": null,
   "id": "49a96de8",
   "metadata": {
    "id": "49a96de8",
    "outputId": "4274fd51-6d7a-4bba-e1a2-6f55ac622c01"
   },
   "outputs": [
    {
     "data": {
      "text/plain": [
       "5"
      ]
     },
     "execution_count": 11,
     "metadata": {},
     "output_type": "execute_result"
    }
   ],
   "source": [
    "# Checking the same for a random movie picked up\n",
    "movies_id = movies_index[\"Heat (1995)\"]\n",
    "movies_id"
   ]
  },
  {
   "cell_type": "code",
   "execution_count": null,
   "id": "fff47274",
   "metadata": {
    "id": "fff47274"
   },
   "outputs": [],
   "source": [
    "# We will have to create a user defined function for generating recommendations for the movies as under\n",
    "def get_recommendations(Name, topN):\n",
    "    \n",
    "    # topN = 10\n",
    "    # Getting the movie index using its title \n",
    "    movies_id = movies_index[Name]\n",
    "    \n",
    "    # Getting the pair wise similarity score for all the Titles using the cosine based similarities\n",
    "    cosine_scores = list(enumerate(cos_sim_matrix[movies_id]))\n",
    "    cosine_scores = sorted(cosine_scores, key= lambda x:x[1], reverse= True)\n",
    "    \n",
    "    # We get the scores of top N most similar movies\n",
    "    cosine_scores_N = cosine_scores[0:topN+1]\n",
    "    \n",
    "    # Getting the movie index \n",
    "    movies_idx = [i[0] for i in cosine_scores_N]\n",
    "    movies_scores = [i[1] for i in cosine_scores_N]\n",
    "    \n",
    "    movies_similar = pd.DataFrame(columns = [\"Titles\",\"Scores\"])\n",
    "    movies_similar[\"Titles\"] = movies.loc[movies_idx, \"Titles\"]\n",
    "    movies_similar[\"Scores\"] = movies_scores\n",
    "    movies_similar.reset_index(inplace = True)\n",
    "    \n",
    "    print(movies_similar)\n"
   ]
  },
  {
   "cell_type": "markdown",
   "id": "10d0c74e",
   "metadata": {
    "id": "10d0c74e"
   },
   "source": [
    "The above defined function helps us to recommend the movies based on the similarity on the categories they belong to. The scores are calculated for n number of similar movies and the recomendation for the similar movies is printed out. To understand better we write the code as below."
   ]
  },
  {
   "cell_type": "code",
   "execution_count": null,
   "id": "e70fd063",
   "metadata": {
    "id": "e70fd063",
    "outputId": "2a35814f-76bf-4a2c-bd02-20948e25ecc7"
   },
   "outputs": [
    {
     "name": "stdout",
     "output_type": "stream",
     "text": [
      "    index                          Titles    Scores\n",
      "0      15                   Casino (1995)  1.000000\n",
      "1      35                 Clueless (1995)  0.546160\n",
      "2       0                Toy Story (1995)  0.432793\n",
      "3      24        Leaving Las Vegas (1995)  0.418992\n",
      "4      17               Four Rooms (1995)  0.400306\n",
      "5      27               Persuasion (1995)  0.400306\n",
      "6      28    City of Lost Children (1995)  0.400306\n",
      "7      33         Dead Man Walking (1995)  0.400306\n",
      "8      48                 Lamerica (1994)  0.400306\n",
      "9      22                Assassins (1995)  0.379688\n",
      "10     10  American President, The (1995)  0.349033\n"
     ]
    },
    {
     "data": {
      "text/plain": [
       "15"
      ]
     },
     "execution_count": 13,
     "metadata": {},
     "output_type": "execute_result"
    }
   ],
   "source": [
    "# We are trying to recommend using the above defined function top 10 movies \n",
    "# that stand similar in category as that of the movie defined in the code\n",
    "\n",
    "get_recommendations(\"Casino (1995)\", topN = 10) \n",
    "movies_index[\"Casino (1995)\"]"
   ]
  },
  {
   "cell_type": "markdown",
   "id": "1dfc8c7b",
   "metadata": {
    "id": "1dfc8c7b"
   },
   "source": [
    "Hence, we see the result that clearly show the movies as above which match the closest to the movie defined above **\"Casino (1995)\"**"
   ]
  }
 ],
 "metadata": {
  "colab": {
   "name": "Recommendation Engine - Entertainment Data.ipynb",
   "provenance": []
  },
  "kernelspec": {
   "display_name": "Python 3 (ipykernel)",
   "language": "python",
   "name": "python3"
  },
  "language_info": {
   "codemirror_mode": {
    "name": "ipython",
    "version": 3
   },
   "file_extension": ".py",
   "mimetype": "text/x-python",
   "name": "python",
   "nbconvert_exporter": "python",
   "pygments_lexer": "ipython3",
   "version": "3.9.7"
  }
 },
 "nbformat": 4,
 "nbformat_minor": 5
}
